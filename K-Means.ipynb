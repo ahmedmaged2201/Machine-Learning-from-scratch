{
 "cells": [
  {
   "cell_type": "markdown",
   "metadata": {},
   "source": [
    "# Designing a K-means clustering algorithm"
   ]
  },
  {
   "cell_type": "code",
   "execution_count": 1,
   "metadata": {},
   "outputs": [],
   "source": [
    "import numpy as np\n",
    "import pandas as pd\n",
    "import matplotlib.pyplot as plt\n",
    "import random"
   ]
  },
  {
   "cell_type": "code",
   "execution_count": 2,
   "metadata": {},
   "outputs": [],
   "source": [
    "#reading data txt file\n",
    "xs = []\n",
    "ys = []\n",
    "with open('Data.txt') as f:\n",
    "     for line in f:\n",
    "        x, y = line.split()\n",
    "        xs.append(x)\n",
    "        ys.append(y)\n",
    "#converting from str to float        \n",
    "for i in range(0,len(xs)):\n",
    "    xs[i]=float(xs[i])\n",
    "for i in range(0,len(ys)):\n",
    "    ys[i]=float(ys[i])\n",
    "    \n",
    "#merging in one array\n",
    "data=np.zeros((300,2))\n",
    "for i in range(0,len(xs)):\n",
    "    data[i][0]=xs[i]\n",
    "    data[i][1]=ys[i]\n",
    "#data array with labels\n",
    "dataL=np.zeros((300,3))\n",
    "for i in range(0,len(xs)):\n",
    "    dataL[i][0]=xs[i]\n",
    "    dataL[i][1]=ys[i]\n",
    "    dataL[i][2]=0"
   ]
  },
  {
   "cell_type": "code",
   "execution_count": 3,
   "metadata": {},
   "outputs": [],
   "source": [
    "#reading data2 txt files\n",
    "xs2 = []\n",
    "ys2 = []\n",
    "with open('Data2.txt') as f:\n",
    "     for line in f:\n",
    "        x, y = line.split()\n",
    "        xs2.append(x)\n",
    "        ys2.append(y)\n",
    "#converting from str to float        \n",
    "for i in range(0,len(xs2)):\n",
    "    xs2[i]=float(xs2[i])\n",
    "for i in range(0,len(ys2)):\n",
    "    ys2[i]=float(ys2[i])\n",
    "    \n",
    "#merging in one array\n",
    "data2=np.zeros((30,2))\n",
    "for i in range(0,len(xs2)):\n",
    "    data2[i][0]=xs2[i]\n",
    "    data2[i][1]=ys2[i]\n",
    "#data array with labels\n",
    "dataL2=np.zeros((30,3))\n",
    "for i in range(0,len(xs2)):\n",
    "    dataL2[i][0]=xs2[i]\n",
    "    dataL2[i][1]=ys2[i]\n",
    "    dataL2[i][2]=0"
   ]
  },
  {
   "cell_type": "code",
   "execution_count": 4,
   "metadata": {},
   "outputs": [],
   "source": [
    "def initClusters(prev_cluster,data):\n",
    "    l=0; #largest\n",
    "    lpi=0; #largest point index\n",
    "    for i in range(0,len(data)):\n",
    "        dist = np.linalg.norm(prev_cluster - data[i])\n",
    "        if(l<dist):\n",
    "            l=dist\n",
    "            lpi=i\n",
    "    return data[lpi]"
   ]
  },
  {
   "cell_type": "code",
   "execution_count": 5,
   "metadata": {},
   "outputs": [],
   "source": [
    "def labeling(c1c,c2c,c3c,data,dataL):\n",
    "    l=0\n",
    "    for i in range(0,len(data)):\n",
    "        dist1=np.linalg.norm(c1c - data[i])\n",
    "        dist2=np.linalg.norm(c2c - data[i])\n",
    "        dist3=np.linalg.norm(c3c - data[i])\n",
    "        if(dist1<dist2 and dist1<dist3):\n",
    "            dataL[i][2]=1\n",
    "        elif(dist2<dist1 and dist2<dist3):\n",
    "            dataL[i][2]=2\n",
    "        else:\n",
    "            dataL[i][2]=3"
   ]
  },
  {
   "cell_type": "code",
   "execution_count": 6,
   "metadata": {},
   "outputs": [],
   "source": [
    "def meanCalc(dataL,clus):\n",
    "    totalx=0\n",
    "    totaly=0\n",
    "    n=0\n",
    "    mean=np.zeros((2))\n",
    "    for i in range(0,len(dataL)):\n",
    "        if(dataL[i][2]==clus):\n",
    "            totalx+=dataL[i][0]\n",
    "            totaly+=dataL[i][1]\n",
    "            n+=1\n",
    "    if(n!=0):\n",
    "        mean[0]=totalx/n\n",
    "        mean[1]=totaly/n\n",
    "    else:#not clustered\n",
    "        mean=np.array([-1,-1])\n",
    "    return mean"
   ]
  },
  {
   "cell_type": "code",
   "execution_count": 7,
   "metadata": {},
   "outputs": [],
   "source": [
    "def minAverageDistance(mean1,mean2,mean3,data,dataL):\n",
    "    dist1=0\n",
    "    dist2=0\n",
    "    dist3=0\n",
    "    d1=0\n",
    "    d2=0\n",
    "    d3=0\n",
    "    min=0;\n",
    "    for i in range(0,len(data)):\n",
    "        if(dataL[i][2]==1):\n",
    "            dist1+=np.linalg.norm(mean1 - data[i])\n",
    "            d1+=1\n",
    "        elif(dataL[i][2]==2):\n",
    "            dist2+=np.linalg.norm(mean2 - data[i])\n",
    "            d2+=1\n",
    "        else:\n",
    "            dist3+=np.linalg.norm(mean3 - data[i])\n",
    "            d3+=1\n",
    "    avg1=dist1/d1\n",
    "    avg2=dist2/d1\n",
    "    avg3=dist3/d1\n",
    "    avg=(avg1+avg2+avg3)/3\n",
    "    return avg\n",
    "#     if(avg1>avg2 and avg1>avg3):\n",
    "#         min=avg1\n",
    "#     elif(avg2>avg1 and avg2>avg3):\n",
    "#         min=avg2\n",
    "#     else:\n",
    "#         min=avg3\n",
    "#     return min"
   ]
  },
  {
   "cell_type": "code",
   "execution_count": 8,
   "metadata": {},
   "outputs": [],
   "source": [
    "allMeans=np.zeros((100,6))#2 columns for each mean(x,y) \n",
    "minAvgDist=np.zeros(100)\n",
    "m=0;\n",
    "for i in range(0,100): \n",
    "    cluster1_center=random.choice(data)\n",
    "    cluster2_center=initClusters(cluster1_center,data)\n",
    "    cluster3_center=initClusters(cluster2_center,data)\n",
    "    init=True\n",
    "    flag=True\n",
    "    notClus=False;\n",
    "    while (flag==True): #this while loop classify each point to its specific cluster\n",
    "        if(init==True):\n",
    "            labeling(cluster1_center,cluster2_center,cluster3_center,data,dataL)\n",
    "            init=False\n",
    "        if(meanCalc(dataL,1)[0]==-1 or meanCalc(dataL,2)[0]==-1 or meanCalc(dataL,3)[0]==-1):\n",
    "            notClus=True;\n",
    "            break;\n",
    "        else:\n",
    "            prevmean1=meanCalc(dataL,1)\n",
    "            prevmean2=meanCalc(dataL,2)\n",
    "            prevmean3=meanCalc(dataL,3)\n",
    "            labeling(prevmean1,prevmean2,prevmean3,data,dataL)\n",
    "            mean1=meanCalc(dataL,1)\n",
    "            mean2=meanCalc(dataL,2)\n",
    "            mean3=meanCalc(dataL,3)\n",
    "            if(prevmean1[0]==mean1[0] and prevmean2[0]==mean2[0] and prevmean3[0]==mean3[0] and prevmean1[1]==mean1[1] and prevmean2[1]==mean2[1] and prevmean3[1]==mean3[1]):\n",
    "                flag=False\n",
    "            else:\n",
    "                labeling(mean1,mean2,mean3,data,dataL)\n",
    "    if(notClus==True):\n",
    "        allMeans[m]=-1\n",
    "        m+=1\n",
    "    else:\n",
    "        minAvgDist[m]=minAverageDistance(mean1,mean2,mean3,data,dataL)\n",
    "        allMeans[m][0]=mean1[0]\n",
    "        allMeans[m][1]=mean1[1]\n",
    "        allMeans[m][2]=mean2[0]\n",
    "        allMeans[m][3]=mean2[1]\n",
    "        allMeans[m][4]=mean3[0]\n",
    "        allMeans[m][5]=mean3[1]\n",
    "        m+=1\n",
    "    \n",
    "        \n"
   ]
  },
  {
   "cell_type": "code",
   "execution_count": 9,
   "metadata": {},
   "outputs": [],
   "source": [
    "#The final output using the result that gives the minimum average distance between the points and the centers of their corresponding clusters\n",
    "index=0;\n",
    "min=minAvgDist[0]\n",
    "for i in range(1,len(minAvgDist)):\n",
    "    if(minAvgDist[i]<min and minAvgDist[i]>0 ):\n",
    "        min=minAvgDist[i]\n",
    "        index=i \n",
    "mean1[0]=allMeans[index][0]\n",
    "mean1[1]=allMeans[index][1]\n",
    "mean2[0]=allMeans[index][2]\n",
    "mean2[1]=allMeans[index][3]\n",
    "mean3[0]=allMeans[index][4]\n",
    "mean3[1]=allMeans[index][5]\n",
    "labeling(mean1,mean2,mean3,data,dataL)"
   ]
  },
  {
   "cell_type": "code",
   "execution_count": 28,
   "metadata": {},
   "outputs": [
    {
     "name": "stdout",
     "output_type": "stream",
     "text": [
      "best mean1= [9.842299 9.966967]\n",
      "best mean2= [20.29751 20.04698]\n",
      "best mean3= [1.03035248 1.01326637]\n"
     ]
    }
   ],
   "source": [
    "print(\"best mean1=\",+ mean1)\n",
    "print(\"best mean2=\",+ mean2)\n",
    "print(\"best mean3=\",+ mean3)"
   ]
  },
  {
   "cell_type": "code",
   "execution_count": 29,
   "metadata": {
    "scrolled": false
   },
   "outputs": [
    {
     "data": {
      "image/png": "[encoded data removed]",
      "text/plain": [
       "<Figure size 432x288 with 1 Axes>"
      ]
     },
     "metadata": {
      "needs_background": "light"
     },
     "output_type": "display_data"
    }
   ],
   "source": [
    "#plot after k means clustering\n",
    "dataDF=pd.DataFrame(dataL,columns=['x','y','labels'])\n",
    "for i in range(0,len(dataDF)):\n",
    "    if(dataDF['labels'][i]==1):\n",
    "        plt.scatter(dataDF.iloc[i][0], dataDF.iloc[i][1],color =\"red\")\n",
    "    if(dataDF['labels'][i]==2):\n",
    "        plt.scatter(dataDF.iloc[i][0], dataDF.iloc[i][1],color =\"blue\")\n",
    "    if(dataDF['labels'][i]==3):\n",
    "        plt.scatter(dataDF.iloc[i][0], dataDF.iloc[i][1],color =\"green\")\n",
    "plt.show()"
   ]
  },
  {
   "cell_type": "code",
   "execution_count": null,
   "metadata": {},
   "outputs": [],
   "source": []
  },
  {
   "cell_type": "code",
   "execution_count": 30,
   "metadata": {},
   "outputs": [
    {
     "data": {
      "image/png": "[encoded data removed]",
      "text/plain": [
       "<Figure size 432x288 with 1 Axes>"
      ]
     },
     "metadata": {
      "needs_background": "light"
     },
     "output_type": "display_data"
    }
   ],
   "source": [
    "#testing\n",
    "labeling(mean1,mean2,mean3,data2,dataL2)\n",
    "\n",
    "dataDF2=pd.DataFrame(dataL2,columns=['x','y','labels'])\n",
    "for i in range(0,len(dataDF2)):\n",
    "    if(dataDF2['labels'][i]==1):\n",
    "        plt.scatter(dataDF2.iloc[i][0], dataDF2.iloc[i][1],color =\"red\")\n",
    "    if(dataDF2['labels'][i]==2):\n",
    "        plt.scatter(dataDF2.iloc[i][0], dataDF2.iloc[i][1],color =\"blue\")\n",
    "    if(dataDF2['labels'][i]==3):\n",
    "        plt.scatter(dataDF2.iloc[i][0], dataDF2.iloc[i][1],color =\"green\")\n",
    "plt.show()"
   ]
  },
  {
   "cell_type": "code",
   "execution_count": null,
   "metadata": {},
   "outputs": [],
   "source": []
  }
 ],
 "metadata": {
  "kernelspec": {
   "display_name": "Python 3 (ipykernel)",
   "language": "python",
   "name": "python3"
  },
  "language_info": {
   "codemirror_mode": {
    "name": "ipython",
    "version": 3
   },
   "file_extension": ".py",
   "mimetype": "text/x-python",
   "name": "python",
   "nbconvert_exporter": "python",
   "pygments_lexer": "ipython3",
   "version": "3.9.7"
  }
 },
 "nbformat": 4,
 "nbformat_minor": 4
}
