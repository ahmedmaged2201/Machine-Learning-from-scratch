{
 "cells": [
  {
   "cell_type": "markdown",
   "metadata": {},
   "source": [
    "# Designing a least squares-based classification algorithm"
   ]
  },
  {
   "cell_type": "code",
   "execution_count": 187,
   "metadata": {},
   "outputs": [],
   "source": [
    "# Imports\n",
    "import numpy as np\n",
    "import pandas as pd\n",
    "import seaborn as sn\n",
    "import matplotlib.pyplot as plt\n"
   ]
  },
  {
   "cell_type": "code",
   "execution_count": 34,
   "metadata": {},
   "outputs": [],
   "source": [
    "# Fetching Data\n",
    "train=pd.read_csv(r'C:\\Users\\ahmed\\Desktop\\Machine Learing\\Assignments\\Ass1\\Train.csv')\n",
    "test=pd.read_csv(r'C:\\Users\\ahmed\\Desktop\\Machine Learing\\Assignments\\Ass1\\Test.csv')"
   ]
  },
  {
   "cell_type": "code",
   "execution_count": 35,
   "metadata": {},
   "outputs": [],
   "source": [
    "# Separate Species in Train\n",
    "data_versi=train[train['Species']=='Iris-versicolor']\n",
    "data_virgi=train[train['Species']=='Iris-virginica']\n",
    "data_setosa=train[train['Species']=='Iris-setosa']"
   ]
  },
  {
   "cell_type": "code",
   "execution_count": 36,
   "metadata": {},
   "outputs": [],
   "source": [
    "#dropping Species coulmn in Train\n",
    "versiDfM=data_versi.drop('Species', 1)\n",
    "virgiDfM=data_virgi.drop('Species', 1)\n",
    "setosaDfM=data_setosa.drop('Species', 1)"
   ]
  },
  {
   "cell_type": "code",
   "execution_count": 37,
   "metadata": {},
   "outputs": [],
   "source": [
    "# Droping first two columns\n",
    "test_label=test.drop(['PetalLengthCm','PetalWidthCm'],1)"
   ]
  },
  {
   "cell_type": "code",
   "execution_count": 38,
   "metadata": {},
   "outputs": [],
   "source": [
    "# Droping Species column in test\n",
    "test_data=test.drop('Species',1)"
   ]
  },
  {
   "cell_type": "code",
   "execution_count": 39,
   "metadata": {},
   "outputs": [],
   "source": [
    "# Converting from DataFrame to a List\n",
    "test_label_list=test_label.values.tolist()"
   ]
  },
  {
   "cell_type": "code",
   "execution_count": 40,
   "metadata": {},
   "outputs": [],
   "source": [
    "#converting from dataframe to matrix\n",
    "versiM=versiDfM.to_numpy() #len=37\n",
    "virgiM=virgiDfM.to_numpy() #len=37\n",
    "setosaM=setosaDfM.to_numpy() #len=31"
   ]
  },
  {
   "cell_type": "code",
   "execution_count": 41,
   "metadata": {},
   "outputs": [],
   "source": [
    "#concatenating\n",
    "virgiXsetosa=np.concatenate((virgiM, setosaM)) #len=68\n",
    "virgiXversi=np.concatenate((virgiM, versiM)) #len=74\n",
    "versiXsetosa=np.concatenate((versiM, setosaM)) #len=68"
   ]
  },
  {
   "cell_type": "code",
   "execution_count": 42,
   "metadata": {},
   "outputs": [
    {
     "data": {
      "text/plain": [
       "array([[ 0.57079356],\n",
       "       [-1.18057071],\n",
       "       [-1.0433656 ]])"
      ]
     },
     "execution_count": 42,
     "metadata": {},
     "output_type": "execute_result"
    }
   ],
   "source": [
    "#first equation (virginica,setosa &versicolor)\n",
    "\n",
    "x1=np.concatenate((versiM,virgiXsetosa))\n",
    "x1_tilda = np.concatenate((x1, np.ones((105,1))), axis=1) \n",
    "\n",
    "t11=np.full((len(versiM), 1), 1)\n",
    "t12= np.full((len(virgiXsetosa), 1), -1)\n",
    "t1=np.concatenate((t11,t12))\n",
    "w1= np.linalg.inv(x1_tilda.T @ x1_tilda) @ x1_tilda.T @ t1\n",
    "w1"
   ]
  },
  {
   "cell_type": "code",
   "execution_count": 50,
   "metadata": {},
   "outputs": [
    {
     "data": {
      "text/plain": [
       "array([[-0.50070391],\n",
       "       [ 0.03941776],\n",
       "       [ 1.48011265]])"
      ]
     },
     "execution_count": 50,
     "metadata": {},
     "output_type": "execute_result"
    }
   ],
   "source": [
    "#second equation (virginica,versicolor &setosa)\n",
    "\n",
    "x2=np.concatenate((setosaM,virgiXversi))\n",
    "x2_tilda = np.concatenate((x2, np.ones((105,1))), axis=1) \n",
    "\n",
    "t21=np.full((len(setosaM), 1), 1)\n",
    "t22= np.full((len(virgiXversi), 1), -1)\n",
    "t2=np.concatenate((t21,t22))\n",
    "w2= np.linalg.inv(x2_tilda.T @ x2_tilda) @ x2_tilda.T @ t2\n",
    "w2"
   ]
  },
  {
   "cell_type": "code",
   "execution_count": 51,
   "metadata": {},
   "outputs": [
    {
     "data": {
      "text/plain": [
       "array([[-0.07008965],\n",
       "       [ 1.14115295],\n",
       "       [-1.43674706]])"
      ]
     },
     "execution_count": 51,
     "metadata": {},
     "output_type": "execute_result"
    }
   ],
   "source": [
    "#third equation (versicolor,setosa &virginica)\n",
    "\n",
    "x3=np.concatenate((virgiM,versiXsetosa))\n",
    "x3_tilda = np.concatenate((x3, np.ones((105,1))), axis=1) \n",
    "\n",
    "t31=np.full((len(virgiM), 1), 1)\n",
    "t32= np.full((len(versiXsetosa), 1),-1)\n",
    "t3=np.concatenate((t31,t32))\n",
    "w3= np.linalg.inv(x3_tilda.T @ x3_tilda) @ x3_tilda.T @ t3\n",
    "w3"
   ]
  },
  {
   "cell_type": "code",
   "execution_count": 52,
   "metadata": {},
   "outputs": [],
   "source": [
    "# Creating An Empty Array to store output\n",
    "model_output=[]"
   ]
  },
  {
   "cell_type": "code",
   "execution_count": 53,
   "metadata": {},
   "outputs": [],
   "source": [
    "# Looping in test_data to categorize the data\n",
    "for i in range(0,len(test_data)):\n",
    "    eq_versi=w1[0]*test_data.iloc[i][0]+w1[1]*test_data.iloc[i][1]+w1[2]\n",
    "    eq_setosa=w2[0]*test_data.iloc[i][0]+w2[1]*test_data.iloc[i][1]+w2[2]\n",
    "    eq_virgi=w3[0]*test_data.iloc[i][0]+w3[1]*test_data.iloc[i][1]+w3[2]\n",
    "    \n",
    "    if eq_versi>eq_setosa and eq_versi>eq_virgi:\n",
    "        model_output.append('Iris-versicolor')\n",
    "    elif eq_setosa>eq_versi and eq_setosa>eq_virgi:\n",
    "        model_output.append('Iris-setosa')\n",
    "        \n",
    "    else:\n",
    "        model_output.append('Iris-virginica')"
   ]
  },
  {
   "cell_type": "code",
   "execution_count": 54,
   "metadata": {},
   "outputs": [],
   "source": [
    "# Converting the List to a DataFrame\n",
    "model_output_df=pd.DataFrame(model_output,columns=['Species'])"
   ]
  },
  {
   "cell_type": "code",
   "execution_count": 55,
   "metadata": {},
   "outputs": [
    {
     "name": "stdout",
     "output_type": "stream",
     "text": [
      "82.22222222222221\n"
     ]
    }
   ],
   "source": [
    "# Calculating the classification accuracy for the test data\n",
    "def classification_accuracy(test_label,model_output_df):\n",
    "        correct = 0\n",
    "        for i in range(0,len(test_label)):\n",
    "            if test_label.iloc[i].equals( model_output_df.iloc[i]):\n",
    "                correct += 1\n",
    "        return correct / float(len(test_label)) * 100.0\n",
    "print(classification_accuracy(test_label,model_output_df))   "
   ]
  },
  {
   "cell_type": "code",
   "execution_count": null,
   "metadata": {},
   "outputs": [],
   "source": [
    "            #versicolor setosa virginica\n",
    "#versicolor\n",
    "#setosa\n",
    "#virginica"
   ]
  },
  {
   "cell_type": "code",
   "execution_count": 144,
   "metadata": {},
   "outputs": [],
   "source": [
    "def getRow(i):\n",
    "    r=0 \n",
    "    if test_label_list[i]==['Iris-versicolor']:\n",
    "        r=0\n",
    "    elif test_label_list[i]==['Iris-setosa']:\n",
    "        r=1\n",
    "    else:\n",
    "        r=2\n",
    "    return r\n",
    "\n",
    "def getCoulmn(i):\n",
    "    c=0 \n",
    "    if model_output[i]=='Iris-versicolor':\n",
    "        c=0\n",
    "    elif model_output[i]=='Iris-setosa':\n",
    "        c=1\n",
    "    else:\n",
    "        c=2\n",
    "    return c"
   ]
  },
  {
   "cell_type": "code",
   "execution_count": 186,
   "metadata": {},
   "outputs": [
    {
     "data": {
      "text/plain": [
       "array([[ 5,  0,  8],\n",
       "       [ 0, 19,  0],\n",
       "       [ 0,  0, 13]])"
      ]
     },
     "execution_count": 186,
     "metadata": {},
     "output_type": "execute_result"
    }
   ],
   "source": [
    "#confusion matrix\n",
    "conf_array=[[0,0,0],[0,0,0],[0,0,0]]\n",
    "\n",
    "for i in range(0,len(test_label_list)):\n",
    "    conf_array[getRow(i)][getCoulmn(i)]+=1\n",
    "    \n",
    "conf_matrix=np.array(conf_array).reshape(3,3)\n",
    "conf_matrix"
   ]
  },
  {
   "cell_type": "code",
   "execution_count": 200,
   "metadata": {},
   "outputs": [
    {
     "data": {
      "image/png": "[encoded data removed]",
      "text/plain": [
       "<Figure size 432x288 with 2 Axes>"
      ]
     },
     "metadata": {
      "needs_background": "light"
     },
     "output_type": "display_data"
    }
   ],
   "source": [
    "#converting confusion matrix to an image\n",
    "classes=[\"Iris-versicolor\",\"Iris-setosa\",\"Iris-virginica\"]\n",
    "cfm_DF= pd.DataFrame(conf_matrix, index = classes, columns = classes)\n",
    "cfm_plot = sn.heatmap(cfm_DF, annot=True)\n",
    "cfm_plot.figure.savefig(\"cfm.png\")"
   ]
  },
  {
   "cell_type": "code",
   "execution_count": null,
   "metadata": {},
   "outputs": [],
   "source": []
  }
 ],
 "metadata": {
  "kernelspec": {
   "display_name": "Python 3 (ipykernel)",
   "language": "python",
   "name": "python3"
  },
  "language_info": {
   "codemirror_mode": {
    "name": "ipython",
    "version": 3
   },
   "file_extension": ".py",
   "mimetype": "text/x-python",
   "name": "python",
   "nbconvert_exporter": "python",
   "pygments_lexer": "ipython3",
   "version": "3.9.7"
  }
 },
 "nbformat": 4,
 "nbformat_minor": 4
}
