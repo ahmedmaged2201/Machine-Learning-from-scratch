{
 "cells": [
  {
   "cell_type": "markdown",
   "id": "eb8dfe9c",
   "metadata": {},
   "source": [
    "# Designing a RandomForest Classifier"
   ]
  },
  {
   "cell_type": "code",
   "execution_count": 31,
   "id": "a2701c4b",
   "metadata": {},
   "outputs": [],
   "source": [
    "import pandas as pd\n",
    "import numpy as np\n",
    "import seaborn as sn\n",
    "import PIL\n",
    "import random\n",
    "from sklearn import tree\n",
    "random.seed(10)\n",
    "from PIL import Image\n",
    "from numpy import asarray\n",
    "from scipy import stats\n",
    "from statistics import mode\n",
    "from sklearn.metrics import confusion_matrix\n",
    "from sklearn.metrics import accuracy_score"
   ]
  },
  {
   "cell_type": "code",
   "execution_count": 2,
   "id": "d8ec3b03",
   "metadata": {},
   "outputs": [],
   "source": [
    "#converting from train images to points\n",
    "points=np.empty([2400,785])\n",
    "for i in range(1,2401):\n",
    "    path =r'C:\\Users\\hp\\Desktop\\Train/'+ str(i)+'.jpg'\n",
    "    an_image = PIL.Image.open(path)\n",
    "    image_sequence = an_image.getdata()\n",
    "    image_array = np.array(image_sequence)\n",
    "    image_array = np.append (image_array,[1])\n",
    "    x=image_array.reshape(1,785) \n",
    "    points[i-1]=x    "
   ]
  },
  {
   "cell_type": "code",
   "execution_count": 3,
   "id": "28e967ac",
   "metadata": {},
   "outputs": [],
   "source": [
    "#converting from test images to points\n",
    "test_points=np.empty([200,785])\n",
    "for i in range(1,201):\n",
    "    path =r'C:\\Users\\hp\\Desktop\\Test/'+str(i)+'.jpg'\n",
    "    an_image = PIL.Image.open(path)\n",
    "    image_sequence = an_image.getdata()\n",
    "    image_array = np.array(image_sequence)\n",
    "    image_array = np.append (image_array,[1])\n",
    "    x=image_array.reshape(1,785) \n",
    "    test_points[i-1]=x    "
   ]
  },
  {
   "cell_type": "code",
   "execution_count": 4,
   "id": "3dfd6a16",
   "metadata": {},
   "outputs": [],
   "source": [
    "#reading train labels\n",
    "f=open(r'C:\\Users\\hp\\Desktop\\Train\\Training Labels.txt', mode='r')\n",
    "l=f.read()\n",
    "labels=[]\n",
    "for i in range(0,4800):\n",
    "    if (i%2==0):\n",
    "        labels.append(l[i])"
   ]
  },
  {
   "cell_type": "code",
   "execution_count": 5,
   "id": "30b999ef",
   "metadata": {},
   "outputs": [],
   "source": [
    "#reading test labels\n",
    "f=open(r'C:\\Users\\hp\\Desktop\\Test\\Test Labels.txt', mode='r')\n",
    "l=f.read()\n",
    "test_labels=[]\n",
    "for i in range(0,400):\n",
    "    if (i%2==0):\n",
    "        test_labels.append(l[i])  \n",
    "        \n",
    "for i in range(0,200):\n",
    "    if (test_labels[i]=='0'):\n",
    "        test_labels[i]=0\n",
    "    elif (test_labels[i]=='1'):\n",
    "        test_labels[i]=1\n",
    "    elif (test_labels[i]=='2'):\n",
    "        test_labels[i]=2\n",
    "    elif (test_labels[i]=='3'):\n",
    "        test_labels[i]=3\n",
    "    elif (test_labels[i]=='4'):\n",
    "        test_labels[i]=4\n",
    "    elif (test_labels[i]=='5'):\n",
    "        test_labels[i]=5\n",
    "    elif (test_labels[i]=='6'):\n",
    "        test_labels[i]=6\n",
    "    elif (test_labels[i]=='7'):\n",
    "        test_labels[i]=7\n",
    "    elif (test_labels[i]=='8'):\n",
    "        test_labels[i]=8\n",
    "    elif (test_labels[i]=='9'):\n",
    "        test_labels[i]=9"
   ]
  },
  {
   "cell_type": "code",
   "execution_count": 6,
   "id": "bcc189af",
   "metadata": {},
   "outputs": [],
   "source": [
    "def CreateSamples(points,labels,s):\n",
    "    label=np.zeros(s)\n",
    "    sample=np.zeros((s,785))\n",
    "    for i in range(s):\n",
    "        r=random.randint(0,2399)\n",
    "        label[i]=labels[r]\n",
    "        sample[i]=points[r]\n",
    "    label=label.reshape(s,1)\n",
    "    sl=np.append(sample, label, axis = 1)\n",
    "    return sl"
   ]
  },
  {
   "cell_type": "code",
   "execution_count": 7,
   "id": "76050b54",
   "metadata": {},
   "outputs": [],
   "source": [
    "#n=numer of trees/s=num of samples/m=max_depth\n",
    "def Predictions(points,test_points,labels,n,s,m):\n",
    "    flag=True\n",
    "    for i in range(n):\n",
    "        sl=CreateSamples(points,labels,s)\n",
    "        slabels=sl[:,785]\n",
    "        samples=np.delete(sl, 785, 1)\n",
    "        X, y = samples,slabels\n",
    "        clf = tree.DecisionTreeClassifier(max_depth=m, random_state=10)\n",
    "        clf = clf.fit(X, y)\n",
    "        pred=clf.predict(test_points)\n",
    "        pred=pred.reshape(200,1)\n",
    "        if(flag==True):\n",
    "            flag=False\n",
    "            predictions=pred\n",
    "        else:\n",
    "            predictions=np.append(predictions,pred,axis=1)\n",
    "    return predictions"
   ]
  },
  {
   "cell_type": "code",
   "execution_count": 20,
   "id": "848aa8eb",
   "metadata": {},
   "outputs": [],
   "source": [
    "def RandomForest(predictions):\n",
    "    RFpred=np.zeros(200)\n",
    "    for i in range(200):\n",
    "        RFpred[i]=mode(predictions[i])\n",
    "    return RFpred"
   ]
  },
  {
   "cell_type": "code",
   "execution_count": 16,
   "id": "10c6962f",
   "metadata": {},
   "outputs": [],
   "source": [
    "def Accuracy(test_labels,RFpred):\n",
    "    acc=0\n",
    "    for i in range (200):\n",
    "        if(test_labels[i]==RFpred[i]):\n",
    "            acc+=1\n",
    "    acc=(acc/200)*100\n",
    "    return acc"
   ]
  },
  {
   "cell_type": "markdown",
   "id": "51d72c10",
   "metadata": {},
   "source": [
    "### 1) NumOfTrees = 10, NumOfSamples = 50 and MaxDepth = 10"
   ]
  },
  {
   "cell_type": "code",
   "execution_count": 22,
   "id": "ec3b1aba",
   "metadata": {},
   "outputs": [
    {
     "name": "stdout",
     "output_type": "stream",
     "text": [
      "55.00000000000001\n"
     ]
    }
   ],
   "source": [
    "#                                             Accuracy\n",
    "predictions1=Predictions(points,test_points,labels,10,50,10)\n",
    "RFpred1=RandomForest(predictions1)\n",
    "print(Accuracy(test_labels,RFpred1))"
   ]
  },
  {
   "cell_type": "code",
   "execution_count": 23,
   "id": "1c07e538",
   "metadata": {},
   "outputs": [
    {
     "data": {
      "text/plain": [
       "array([[19,  0,  0,  0,  0,  0,  1,  0,  0,  0],\n",
       "       [ 0, 19,  0,  0,  0,  0,  0,  0,  1,  0],\n",
       "       [ 2,  0, 17,  0,  0,  0,  1,  0,  0,  0],\n",
       "       [ 0,  0,  2, 14,  0,  1,  0,  3,  0,  0],\n",
       "       [ 3,  1,  3,  2,  4,  0,  0,  2,  1,  4],\n",
       "       [ 5,  0,  1,  1,  0,  4,  0,  1,  2,  6],\n",
       "       [ 8,  0,  1,  1,  1,  2,  7,  0,  0,  0],\n",
       "       [ 2,  1,  0,  0,  0,  0,  0,  9,  0,  8],\n",
       "       [ 0,  4,  1,  2,  0,  2,  0,  0, 11,  0],\n",
       "       [ 1,  0,  1,  2,  1,  0,  2,  7,  0,  6]], dtype=int64)"
      ]
     },
     "execution_count": 23,
     "metadata": {},
     "output_type": "execute_result"
    }
   ],
   "source": [
    "#                                          Confusion_Matrix\n",
    "confusion_matrix(test_labels,RandomForest(predictions1))"
   ]
  },
  {
   "cell_type": "markdown",
   "id": "b9f48ea4",
   "metadata": {},
   "source": [
    "### 2)NumOfTrees = 100, NumOfSamples = 50 and MaxDepth = 10"
   ]
  },
  {
   "cell_type": "code",
   "execution_count": 24,
   "id": "ce5e118d",
   "metadata": {},
   "outputs": [
    {
     "name": "stdout",
     "output_type": "stream",
     "text": [
      "72.0\n"
     ]
    }
   ],
   "source": [
    "#                                             Accuracy\n",
    "predictions2=Predictions(points,test_points,labels,100,50,10)\n",
    "RFpred2=RandomForest(predictions2)\n",
    "print(Accuracy(test_labels,RFpred2))"
   ]
  },
  {
   "cell_type": "code",
   "execution_count": 25,
   "id": "6898f3c3",
   "metadata": {},
   "outputs": [
    {
     "data": {
      "text/plain": [
       "array([[18,  0,  0,  0,  0,  0,  1,  0,  1,  0],\n",
       "       [ 0, 20,  0,  0,  0,  0,  0,  0,  0,  0],\n",
       "       [ 1,  4, 11,  1,  1,  0,  0,  0,  2,  0],\n",
       "       [ 0,  2,  0, 14,  0,  3,  0,  0,  1,  0],\n",
       "       [ 1,  1,  1,  0, 11,  0,  1,  0,  0,  5],\n",
       "       [ 1,  1,  0,  1,  0, 15,  0,  0,  0,  2],\n",
       "       [ 3,  0,  0,  0,  2,  0, 15,  0,  0,  0],\n",
       "       [ 0,  1,  0,  0,  2,  0,  0, 14,  0,  3],\n",
       "       [ 1,  0,  0,  0,  0,  0,  0,  0, 17,  2],\n",
       "       [ 3,  0,  1,  0,  3,  0,  0,  4,  0,  9]], dtype=int64)"
      ]
     },
     "execution_count": 25,
     "metadata": {},
     "output_type": "execute_result"
    }
   ],
   "source": [
    "#                                          Confusion_Matrix\n",
    "confusion_matrix(test_labels,RandomForest(predictions2))"
   ]
  },
  {
   "cell_type": "markdown",
   "id": "595ba05f",
   "metadata": {},
   "source": [
    "### 3)NumOfTrees = 100, NumOfSamples = 500 and MaxDepth = 10"
   ]
  },
  {
   "cell_type": "code",
   "execution_count": 26,
   "id": "3a11a061",
   "metadata": {},
   "outputs": [
    {
     "name": "stdout",
     "output_type": "stream",
     "text": [
      "85.0\n"
     ]
    }
   ],
   "source": [
    "#                                             Accuracy\n",
    "predictions3=Predictions(points,test_points,labels,100,500,10)\n",
    "RFpred3=RandomForest(predictions3)\n",
    "print(Accuracy(test_labels,RFpred3))"
   ]
  },
  {
   "cell_type": "code",
   "execution_count": 27,
   "id": "5c7305c9",
   "metadata": {},
   "outputs": [
    {
     "data": {
      "text/plain": [
       "array([[17,  0,  0,  0,  0,  2,  1,  0,  0,  0],\n",
       "       [ 0, 20,  0,  0,  0,  0,  0,  0,  0,  0],\n",
       "       [ 0,  1, 17,  1,  0,  0,  0,  0,  1,  0],\n",
       "       [ 0,  0,  1, 16,  0,  2,  0,  0,  1,  0],\n",
       "       [ 0,  0,  0,  0, 19,  0,  0,  0,  0,  1],\n",
       "       [ 1,  0,  0,  2,  0, 16,  1,  0,  0,  0],\n",
       "       [ 0,  0,  0,  0,  1,  0, 19,  0,  0,  0],\n",
       "       [ 0,  1,  0,  0,  1,  0,  0, 16,  0,  2],\n",
       "       [ 1,  0,  0,  1,  0,  0,  0,  0, 17,  1],\n",
       "       [ 1,  0,  0,  0,  2,  0,  0,  4,  0, 13]], dtype=int64)"
      ]
     },
     "execution_count": 27,
     "metadata": {},
     "output_type": "execute_result"
    }
   ],
   "source": [
    "#                                          Confusion_Matrix\n",
    "confusion_matrix(test_labels,RandomForest(predictions3))"
   ]
  },
  {
   "cell_type": "markdown",
   "id": "2f108b9d",
   "metadata": {},
   "source": [
    "### 4)NumOfTrees = 100 NumOfSamples = 1000 and MaxDepth = 100"
   ]
  },
  {
   "cell_type": "code",
   "execution_count": 28,
   "id": "20faef66",
   "metadata": {},
   "outputs": [
    {
     "name": "stdout",
     "output_type": "stream",
     "text": [
      "88.5\n"
     ]
    }
   ],
   "source": [
    "#                                             Accuracy\n",
    "predictions4=Predictions(points,test_points,labels,100,1000,100)\n",
    "RFpred4=RandomForest(predictions4)\n",
    "print(Accuracy(test_labels,RFpred4))"
   ]
  },
  {
   "cell_type": "code",
   "execution_count": 29,
   "id": "faa78478",
   "metadata": {},
   "outputs": [
    {
     "data": {
      "text/plain": [
       "array([[18,  0,  0,  0,  1,  0,  1,  0,  0,  0],\n",
       "       [ 0, 20,  0,  0,  0,  0,  0,  0,  0,  0],\n",
       "       [ 0,  1, 17,  1,  0,  0,  0,  0,  1,  0],\n",
       "       [ 0,  0,  1, 17,  0,  1,  0,  0,  1,  0],\n",
       "       [ 0,  0,  0,  0, 17,  0,  1,  0,  0,  2],\n",
       "       [ 0,  0,  0,  1,  0, 19,  0,  0,  0,  0],\n",
       "       [ 1,  0,  0,  0,  0,  0, 19,  0,  0,  0],\n",
       "       [ 0,  0,  0,  0,  0,  0,  0, 19,  0,  1],\n",
       "       [ 1,  0,  0,  1,  0,  0,  0,  0, 18,  0],\n",
       "       [ 1,  0,  0,  0,  3,  0,  0,  2,  1, 13]], dtype=int64)"
      ]
     },
     "execution_count": 29,
     "metadata": {},
     "output_type": "execute_result"
    }
   ],
   "source": [
    "#                                          Confusion_Matrix\n",
    "confusion_matrix(test_labels,RandomForest(predictions4))"
   ]
  },
  {
   "cell_type": "code",
   "execution_count": null,
   "id": "be141ad6",
   "metadata": {},
   "outputs": [],
   "source": []
  }
 ],
 "metadata": {
  "kernelspec": {
   "display_name": "Python 3 (ipykernel)",
   "language": "python",
   "name": "python3"
  },
  "language_info": {
   "codemirror_mode": {
    "name": "ipython",
    "version": 3
   },
   "file_extension": ".py",
   "mimetype": "text/x-python",
   "name": "python",
   "nbconvert_exporter": "python",
   "pygments_lexer": "ipython3",
   "version": "3.9.7"
  }
 },
 "nbformat": 4,
 "nbformat_minor": 5
}
